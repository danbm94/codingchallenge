{
 "cells": [
  {
   "cell_type": "markdown",
   "metadata": {},
   "source": [
    "# This is Jeopardy!"
   ]
  },
  {
   "cell_type": "markdown",
   "metadata": {},
   "source": [
    "#### Overview"
   ]
  },
  {
   "cell_type": "markdown",
   "metadata": {},
   "source": [
    "This project is slightly different than others you have encountered thus far. Instead of a step-by-step tutorial, this project contains a series of open-ended requirements which describe the project you'll be building. There are many possible ways to correctly fulfill all of these requirements, and you should expect to use the internet, Codecademy, and/or other resources when you encounter a problem that you cannot easily solve."
   ]
  },
  {
   "cell_type": "markdown",
   "metadata": {},
   "source": [
    "#### Project Goals"
   ]
  },
  {
   "cell_type": "markdown",
   "metadata": {},
   "source": [
    "You will work to write several functions that investigate a dataset of _Jeopardy!_ questions and answers. Filter the dataset for topics that you're interested in, compute the average difficulty of those questions, and train to become the next Jeopardy champion!"
   ]
  },
  {
   "cell_type": "markdown",
   "metadata": {},
   "source": [
    "## Prerequisites"
   ]
  },
  {
   "cell_type": "markdown",
   "metadata": {},
   "source": [
    "In order to complete this project, you should have completed the Pandas lessons in the <a href=\"https://www.codecademy.com/learn/paths/analyze-data-with-python\">Analyze Data with Python Skill Path</a>. You can also find those lessons in the <a href=\"https://www.codecademy.com/learn/data-processing-pandas\">Data Analysis with Pandas course</a> or the <a href=\"https://www.codecademy.com/learn/paths/data-science/\">Data Scientist Career Path</a>.\n",
    "\n",
    "Finally, the <a href=\"https://www.codecademy.com/learn/practical-data-cleaning\">Practical Data Cleaning</a> course may also be helpful."
   ]
  },
  {
   "cell_type": "markdown",
   "metadata": {},
   "source": [
    "## Project Requirements"
   ]
  },
  {
   "cell_type": "markdown",
   "metadata": {},
   "source": [
    "1. We've provided a csv file containing data about the game show _Jeopardy!_ in a file named `jeopardy.csv`. Load the data into a DataFrame and investigate its contents. Try to print out specific columns.\n",
    "\n",
    "   Note that in order to make this project as \"real-world\" as possible, we haven't modified the data at all - we're giving it to you exactly how we found it. As a result, this data isn't as \"clean\" as the datasets you normally find on Codecademy. More specifically, there's something odd about the column names. After you figure out the problem with the column names, you may want to rename them to make your life easier for the rest of the project.\n",
    "   \n",
    "   In order to display the full contents of a column, we've added this line of code for you:\n",
    "   \n",
    "   ```py\n",
    "   pd.set_option('display.max_colwidth', None)\n",
    "   ```"
   ]
  },
  {
   "cell_type": "code",
   "execution_count": 18,
   "metadata": {},
   "outputs": [],
   "source": [
    "import pandas as pd\n",
    "import numpy as np\n",
    "pd.set_option('display.max_colwidth', None)"
   ]
  },
  {
   "cell_type": "code",
   "execution_count": 2,
   "metadata": {},
   "outputs": [],
   "source": [
    "df= pd.read_csv('jeopardy.csv')\n",
    "df.columns = df.columns.str.strip()\n",
    "df.columns = df.columns.str.replace(' ', '_')  \n"
   ]
  },
  {
   "cell_type": "markdown",
   "metadata": {},
   "source": [
    "2. Write a function that filters the dataset for questions that contains all of the words in a list of words. For example, when the list `[\"King\", \"England\"]` was passed to our function, the function returned a DataFrame of 49 rows. Every row had the strings `\"King\"` and `\"England\"` somewhere in its `\" Question\"`.\n",
    "\n",
    "   Test your function by printing out the column containing the question of each row of the dataset."
   ]
  },
  {
   "cell_type": "code",
   "execution_count": 14,
   "metadata": {},
   "outputs": [
    {
     "name": "stdout",
     "output_type": "stream",
     "text": [
      "20324                                                                                                                                                                                                                                                                                                                                                                         Erich Maria Remarque was working as a sportswriter in Germany when he wrote this novel about WWI\n",
      "23519                                                                                                                                                                                                                                                                                                                                                                           He was working as a sportswriter in Germany when he published \"All Quiet on the Western Front\"\n",
      "66727                                                                                                                                                                                                                                                                                                                                               You were a French spy in WWI Belgium, but didn't tell 'em you were working for Germany, too; lady, that'll get you snuffed\n",
      "72249                                                                                                                                                                                                                                                                                                                                                                        By the 1871 Treaty of Frankfurt, France gave Germany Alsace & part of this quiche-making province\n",
      "79765                                                                                                                                                                                                                                                                                                                                                                            In 1805 Napoleon made this duchy a kingdom; today it's Germany's largest & southernmost state\n",
      "88969                                                                                                                                                                                                                                                                                                                                                                   In the 1850 Punctuation of Olmutz, this German-speaking country halted Prussia's aims to unite Germany\n",
      "93731                                                                                                                                                                                                                                                                                                                                                                                                  Germany invaded this country on June 22, 1941, attacking Minsk & Odessa\n",
      "101287                                                                                                                                                                                                                                                                                                                                                              Maybe working as a double agent for France & Germany wasn't a good idea; she was executed on Oct. 15, 1917\n",
      "103734    (<a href=\"http://www.j-archive.com/media/2004-06-24_J_25.jpg\" target=\"_blank\">Cheryl of the Clue Crew reads from outside Neuschwanstein Castle in Germany.</a>)  Sadly, <a href=\"http://www.j-archive.com/media/2004-06-24_J_25b.jpg\" target=\"_blank\">this</a> king of Bavaria, who built <a href=\"http://www.j-archive.com/media/2004-06-24_J_25a.jpg\" target=\"_blank\">Neuschwanstein Castle</a>, didn't live here long; he was declared insane and forced to leave\n",
      "124732                                                                                                                                                                                                                                                                                                                                                  The game is based on making & breaking these, such as the triple one that in real life united Italy, Germany & Austria\n",
      "148932                                                                                                                                                                                                                                                                                                                                                                             An Oeslau, Germany company began making figurines based on this nun's drawings in the 1930s\n",
      "156593                                                                                                                                                                                                                                                                                                                                                                        This B. Traven novel about 3 Americans looking for gold in Mexico was first published in Germany\n",
      "174918                                                                                                                                                                                                                                                                                                                                                              On May 7, 1945 Germany signed the Articles of Surrender in this city, the coronation place of French kings\n",
      "183677                                                                                                                                                                                                                                                                                                                                                                         This kingfisher that shares its name with an \"iron chancellor\" lives in New Guinea, not Germany\n",
      "184667                                                                                                                                                                                                                                                                                                                                                                              Prussia's King Wilhelm I assumed this title in 1871 when he was crowned emperor of Germany\n",
      "191729                                                                                                                                                                                                                                                                                                                                                                 In biology's \"King Philip came over from Germany Saturday\", K & P are kingdom & phylum; G & S are these\n",
      "Name: Question, dtype: object\n"
     ]
    }
   ],
   "source": [
    "def filter_data(dataframe, words):\n",
    "    filter = lambda x: all(word.lower() in x.lower()  for word in words)\n",
    "\n",
    "    return dataframe.loc[dataframe['Question'].apply(filter)]\n",
    "\n",
    "\n",
    "filtered = filter_data(df, ['king','Germany'])\n",
    "print(filtered['Question'])"
   ]
  },
  {
   "cell_type": "markdown",
   "metadata": {},
   "source": [
    "3. Test your original function with a few different sets of words to try to find some ways your function breaks. Edit your function so it is more robust.\n",
    "\n",
    "   For example, think about capitalization. We probably want to find questions that contain the word `\"King\"` or `\"king\"`.\n",
    "   \n",
    "   You may also want to check to make sure you don't find rows that contain substrings of your given words. For example, our function found a question that didn't contain the word `\"king\"`, however it did contain the word `\"viking\"` &mdash; it found the `\"king\"` inside `\"viking\"`. Note that this also comes with some drawbacks &mdash; you would no longer find questions that contained words like `\"England's\"`."
   ]
  },
  {
   "cell_type": "markdown",
   "metadata": {},
   "source": [
    "4. We may want to eventually compute aggregate statistics, like `.mean()` on the `\" Value\"` column. But right now, the values in that column are strings. Convert the`\" Value\"` column to floats. If you'd like to, you can create a new column with float values.\n",
    "\n",
    "   While most of the values in the `\" Value\"` column represent a dollar amount as a string, note that some do not &mdash; these values will need to be handled differently!\n",
    "\n",
    "   Now that you can filter the dataset of question, use your new column that contains the float values of each question to find the \"difficulty\" of certain topics. For example, what is the average value of questions that contain the word `\"King\"`?\n",
    "   \n",
    "   Make sure to use the dataset that contains the float values as the dataset you use in your filtering function."
   ]
  },
  {
   "cell_type": "code",
   "execution_count": 21,
   "metadata": {},
   "outputs": [],
   "source": [
    "df['Value'] = df['Value'].str.replace('$', '')\n",
    "df['Value'] = df['Value'].str.replace(',', '')\n",
    "df['Value'] = pd.to_numeric(df['Value'], errors='coerce')\n"
   ]
  },
  {
   "cell_type": "markdown",
   "metadata": {},
   "source": [
    "5. Write a function that returns the count of unique answers to all of the questions in a dataset. For example, after filtering the entire dataset to only questions containing the word `\"King\"`, we could then find all of the unique answers to those questions. The answer \"Henry VIII\" appeared 55 times and was the most common answer."
   ]
  },
  {
   "cell_type": "code",
   "execution_count": 23,
   "metadata": {},
   "outputs": [
    {
     "name": "stdout",
     "output_type": "stream",
     "text": [
      "Answer\n",
      "China                             216\n",
      "Australia                         215\n",
      "Japan                             196\n",
      "Chicago                           194\n",
      "France                            193\n",
      "                                 ... \n",
      "a triathalon                        1\n",
      "The King of Comedy                  1\n",
      "The Admirable Chrichton             1\n",
      "a tribunal                          1\n",
      "Grigori Alexandrovich Potemkin      1\n",
      "Name: count, Length: 88267, dtype: int64\n"
     ]
    }
   ],
   "source": [
    "#return the count of the unique answers to all of the questions in a dataset\n",
    "def get_answer_counts(dataframe):\n",
    "    return dataframe['Answer'].value_counts()\n",
    "\n",
    "print(get_answer_counts(df))\n"
   ]
  },
  {
   "cell_type": "markdown",
   "metadata": {},
   "source": [
    "6. Explore from here! This is an incredibly rich dataset, and there are so many interesting things to discover. There are a few columns that we haven't even started looking at yet. Here are some ideas on ways to continue working with this data:\n",
    "\n",
    " * Investigate the ways in which questions change over time by filtering by the date. How many questions from the 90s use the word `\"Computer\"` compared to questions from the 2000s?\n",
    " * Is there a connection between the round and the category? Are you more likely to find certain categories, like `\"Literature\"` in Single Jeopardy or Double Jeopardy?\n",
    " * Build a system to quiz yourself. Grab random questions, and use the <a href=\"https://docs.python.org/3/library/functions.html#input\">input</a> function to get a response from the user. Check to see if that response was right or wrong."
   ]
  },
  {
   "cell_type": "code",
   "execution_count": null,
   "metadata": {},
   "outputs": [],
   "source": []
  },
  {
   "cell_type": "markdown",
   "metadata": {},
   "source": [
    "## Solution"
   ]
  },
  {
   "cell_type": "markdown",
   "metadata": {},
   "source": [
    "7. Compare your program to our <a href=\"https://content.codecademy.com/PRO/independent-practice-projects/jeopardy/jeopardy_solution.zip\">sample solution code</a> - remember, that your program might look different from ours (and probably will) and that's okay!"
   ]
  },
  {
   "cell_type": "markdown",
   "metadata": {},
   "source": [
    "8. Great work! Visit <a href=\"https://discuss.codecademy.com/t/this-is-jeopardy-challenge-project-python-pandas/462365\">our forums</a> to compare your project to our sample solution code. You can also learn how to host your own solution on GitHub so you can share it with other learners! Your solution might look different from ours, and that's okay! There are multiple ways to solve these projects, and you'll learn more by seeing others' code."
   ]
  },
  {
   "cell_type": "code",
   "execution_count": null,
   "metadata": {},
   "outputs": [],
   "source": []
  }
 ],
 "metadata": {
  "kernelspec": {
   "display_name": "Python 3 (ipykernel)",
   "language": "python",
   "name": "python3"
  },
  "language_info": {
   "codemirror_mode": {
    "name": "ipython",
    "version": 3
   },
   "file_extension": ".py",
   "mimetype": "text/x-python",
   "name": "python",
   "nbconvert_exporter": "python",
   "pygments_lexer": "ipython3",
   "version": "3.11.4"
  }
 },
 "nbformat": 4,
 "nbformat_minor": 2
}
